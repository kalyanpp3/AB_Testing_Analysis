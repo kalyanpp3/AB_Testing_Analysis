{
 "cells": [
  {
   "cell_type": "code",
   "execution_count": 3,
   "metadata": {},
   "outputs": [],
   "source": [
    "import pandas as pd\n",
    "import numpy as np\n",
    "import matplotlib.pyplot as plt\n",
    "import seaborn as sns\n",
    "%matplotlib inline"
   ]
  },
  {
   "cell_type": "code",
   "execution_count": 24,
   "metadata": {},
   "outputs": [
    {
     "name": "stdout",
     "output_type": "stream",
     "text": [
      "   user_id                   timestamp      group landing_page  converted\n",
      "0   851104  2017-01-21 22:11:48.556739    control     old_page          0\n",
      "1   804228  2017-01-12 08:01:45.159739    control     old_page          0\n",
      "2   661590  2017-01-11 16:55:06.154213  treatment     new_page          0\n",
      "3   853541  2017-01-08 18:28:03.143765  treatment     new_page          0\n",
      "4   864975  2017-01-21 01:52:26.210827    control     old_page          1\n",
      "5   936923  2017-01-10 15:20:49.083499    control     old_page          0\n",
      "6   679687  2017-01-19 03:26:46.940749  treatment     new_page          1\n",
      "7   719014  2017-01-17 01:48:29.539573    control     old_page          0\n",
      "8   817355  2017-01-04 17:58:08.979471  treatment     new_page          1\n",
      "9   839785  2017-01-15 18:11:06.610965  treatment     new_page          1\n",
      "           user_id  timestamp  landing_page  converted\n",
      "group                                                 \n",
      "control     147202     147202        147202     147202\n",
      "treatment   147276     147276        147276     147276\n"
     ]
    }
   ],
   "source": [
    "ab_testing = pd.read_csv(\"ab_data.csv\")\n",
    "ab_testing_control = ab_testing[ab_testing[\"group\"] == \"control\"].copy()\n",
    "ab_testing_treatment = ab_testing[ab_testing[\"group\"] == \"treatment\"].copy()\n",
    "print(ab_testing.head(10))\n",
    "print(ab_testing.groupby(\"group\").count())"
   ]
  },
  {
   "cell_type": "code",
   "execution_count": 5,
   "metadata": {},
   "outputs": [
    {
     "name": "stdout",
     "output_type": "stream",
     "text": [
      "(294478, 5)\n",
      "290584\n"
     ]
    }
   ],
   "source": [
    "## Total records and unique users in the dataset\n",
    "print(ab_testing.shape)\n",
    "print(ab_testing[\"user_id\"].nunique())"
   ]
  },
  {
   "cell_type": "code",
   "execution_count": 6,
   "metadata": {},
   "outputs": [
    {
     "data": {
      "text/plain": [
       "11.96591935560551"
      ]
     },
     "execution_count": 6,
     "metadata": {},
     "output_type": "execute_result"
    }
   ],
   "source": [
    "## Proportion of users converted\n",
    "(ab_testing.converted == 1).mean()*100"
   ]
  },
  {
   "cell_type": "code",
   "execution_count": 7,
   "metadata": {},
   "outputs": [],
   "source": [
    "#identify misaligned rows\n",
    "((ab_testing.group=='treatment') & (ab_testing.landing_page=='old_page')).sum()+ ((ab_testing.group=='control') & (ab_testing.landing_page=='new_page')).sum()\n",
    "ab_testing['misaligned']=((ab_testing.group=='treatment') & (ab_testing.landing_page=='old_page')) | ((ab_testing.group=='control') & (ab_testing.landing_page=='new_page'))"
   ]
  },
  {
   "cell_type": "code",
   "execution_count": 8,
   "metadata": {},
   "outputs": [
    {
     "name": "stdout",
     "output_type": "stream",
     "text": [
      "(290585, 6)\n"
     ]
    }
   ],
   "source": [
    "ab_df = ab_testing[ab_testing[\"misaligned\"] == False].copy()\n",
    "print(ab_df.shape)"
   ]
  },
  {
   "cell_type": "code",
   "execution_count": 9,
   "metadata": {},
   "outputs": [
    {
     "name": "stdout",
     "output_type": "stream",
     "text": [
      "290584\n",
      "773192    2\n",
      "639032    1\n",
      "663620    1\n",
      "778364    1\n",
      "645179    1\n",
      "Name: user_id, dtype: int64\n"
     ]
    }
   ],
   "source": [
    "# Double Check all of the correct rows were removed - this should be 0\n",
    "ab_df[((ab_df['group'] == 'treatment') == (ab_df['landing_page'] == 'new_page')) == False].shape[0]\n",
    "print(ab_df['user_id'].nunique())\n",
    "print(ab_df[\"user_id\"].value_counts().sort_values(ascending = False).head())"
   ]
  },
  {
   "cell_type": "code",
   "execution_count": 10,
   "metadata": {},
   "outputs": [
    {
     "data": {
      "text/html": [
       "<div>\n",
       "<style scoped>\n",
       "    .dataframe tbody tr th:only-of-type {\n",
       "        vertical-align: middle;\n",
       "    }\n",
       "\n",
       "    .dataframe tbody tr th {\n",
       "        vertical-align: top;\n",
       "    }\n",
       "\n",
       "    .dataframe thead th {\n",
       "        text-align: right;\n",
       "    }\n",
       "</style>\n",
       "<table border=\"1\" class=\"dataframe\">\n",
       "  <thead>\n",
       "    <tr style=\"text-align: right;\">\n",
       "      <th></th>\n",
       "      <th>user_id</th>\n",
       "      <th>timestamp</th>\n",
       "      <th>group</th>\n",
       "      <th>landing_page</th>\n",
       "      <th>converted</th>\n",
       "      <th>misaligned</th>\n",
       "    </tr>\n",
       "  </thead>\n",
       "  <tbody>\n",
       "    <tr>\n",
       "      <th>1899</th>\n",
       "      <td>773192</td>\n",
       "      <td>2017-01-09 05:37:58.781806</td>\n",
       "      <td>treatment</td>\n",
       "      <td>new_page</td>\n",
       "      <td>0</td>\n",
       "      <td>False</td>\n",
       "    </tr>\n",
       "    <tr>\n",
       "      <th>2893</th>\n",
       "      <td>773192</td>\n",
       "      <td>2017-01-14 02:55:59.590927</td>\n",
       "      <td>treatment</td>\n",
       "      <td>new_page</td>\n",
       "      <td>0</td>\n",
       "      <td>False</td>\n",
       "    </tr>\n",
       "  </tbody>\n",
       "</table>\n",
       "</div>"
      ],
      "text/plain": [
       "      user_id                   timestamp      group landing_page  converted  \\\n",
       "1899   773192  2017-01-09 05:37:58.781806  treatment     new_page          0   \n",
       "2893   773192  2017-01-14 02:55:59.590927  treatment     new_page          0   \n",
       "\n",
       "      misaligned  \n",
       "1899       False  \n",
       "2893       False  "
      ]
     },
     "execution_count": 10,
     "metadata": {},
     "output_type": "execute_result"
    }
   ],
   "source": [
    "ab_df[ab_df[\"user_id\"] == 773192]"
   ]
  },
  {
   "cell_type": "code",
   "execution_count": 11,
   "metadata": {},
   "outputs": [
    {
     "name": "stdout",
     "output_type": "stream",
     "text": [
      "(290584, 6)\n"
     ]
    }
   ],
   "source": [
    "ab_df = ab_df.drop(ab_df.index[1899])\n",
    "print(ab_df.shape)"
   ]
  },
  {
   "cell_type": "code",
   "execution_count": 12,
   "metadata": {},
   "outputs": [
    {
     "name": "stdout",
     "output_type": "stream",
     "text": [
      "0.11959708724499628\n",
      "0.12038713319061353\n",
      "0.11880724790277405\n"
     ]
    },
    {
     "data": {
      "text/plain": [
       "0.5000653855683727"
      ]
     },
     "execution_count": 12,
     "metadata": {},
     "output_type": "execute_result"
    }
   ],
   "source": [
    "## What is the probability of an individual converting regardless of the page they receive?\n",
    "print((ab_df[\"converted\"] == 1).mean())\n",
    "\n",
    "## Given that an individual was in the control group, what is the probability they converted?\n",
    "actual_pold=(ab_df[ab_df[\"group\"]==\"control\"]['converted']==1).mean()\n",
    "print(actual_pold)\n",
    "\n",
    "## Given that an individual was in the treatment group, what is the probability they converted?\n",
    "actual_pnew=(ab_df[ab_df[\"group\"]==\"treatment\"]['converted']==1).mean()\n",
    "print(actual_pnew)\n",
    "\n",
    "## What is the probability that an individual received the new page?\n",
    "(ab_df['landing_page']=='new_page').mean()"
   ]
  },
  {
   "cell_type": "code",
   "execution_count": 13,
   "metadata": {},
   "outputs": [
    {
     "name": "stdout",
     "output_type": "stream",
     "text": [
      "0.11959708724499628\n",
      "0.11959708724499628\n",
      "145311\n",
      "145273\n"
     ]
    }
   ],
   "source": [
    "pnew_null=(ab_df['converted']==1).mean()\n",
    "print(pnew_null)\n",
    "\n",
    "pold_null=(ab_df['converted']==1).mean()\n",
    "print(pold_null)\n",
    "\n",
    "n_new=(ab_df['landing_page']=='new_page').sum()\n",
    "print(n_new)\n",
    "\n",
    "n_old=(ab_df['landing_page']=='old_page').sum()\n",
    "print(n_old)"
   ]
  },
  {
   "cell_type": "code",
   "execution_count": 14,
   "metadata": {},
   "outputs": [
    {
     "name": "stdout",
     "output_type": "stream",
     "text": [
      "-0.0001482764499928374\n"
     ]
    }
   ],
   "source": [
    "new_page_converted=np.random.binomial(n_new, pnew_null)\n",
    "old_page_converted=np.random.binomial(n_old, pold_null)\n",
    "diff=(new_page_converted/n_new)-(old_page_converted/n_old)\n",
    "print(diff)"
   ]
  },
  {
   "cell_type": "code",
   "execution_count": 15,
   "metadata": {},
   "outputs": [
    {
     "data": {
      "image/png": "[encoded data removed]",
      "text/plain": [
       "<Figure size 432x288 with 1 Axes>"
      ]
     },
     "metadata": {},
     "output_type": "display_data"
    }
   ],
   "source": [
    "p_diffs=[]\n",
    "p_diffs = np.random.binomial(n_new, pnew_null, 10000)/n_new - np.random.binomial(n_old, pold_null, 10000)/n_old \n",
    "\n",
    "plt.hist(p_diffs, bins=200)\n",
    "plt.xlim(-0.005, 0.005)\n",
    "plt.xlabel('p_diffs')\n",
    "plt.ylabel('counts')\n",
    "plt.title('simulated p_diffs distribution')\n",
    "plt.axvline(0.000, color='red');"
   ]
  },
  {
   "cell_type": "code",
   "execution_count": 16,
   "metadata": {},
   "outputs": [
    {
     "data": {
      "text/plain": [
       "0.9086"
      ]
     },
     "execution_count": 16,
     "metadata": {},
     "output_type": "execute_result"
    }
   ],
   "source": [
    "actual_diff=actual_pnew-actual_pold\n",
    "(p_diffs>actual_diff).mean()"
   ]
  },
  {
   "cell_type": "code",
   "execution_count": 17,
   "metadata": {},
   "outputs": [
    {
     "data": {
      "text/plain": [
       "(17489, 17264, 145273, 145311)"
      ]
     },
     "execution_count": 17,
     "metadata": {},
     "output_type": "execute_result"
    }
   ],
   "source": [
    "import statsmodels.api as sm\n",
    "\n",
    "convert_old = (ab_df.query('landing_page==\"old_page\"')['converted']==1).sum()\n",
    "convert_new = (ab_df.query('landing_page==\"new_page\"')['converted']==1).sum()\n",
    "n_old = (ab_df['landing_page']=='old_page').sum()\n",
    "n_new=(ab_df['landing_page']=='new_page').sum()\n",
    "\n",
    "convert_old, convert_new, n_old, n_new"
   ]
  },
  {
   "cell_type": "code",
   "execution_count": 18,
   "metadata": {},
   "outputs": [
    {
     "data": {
      "text/plain": [
       "(-1.3122916566912053, 0.9052891269137592)"
      ]
     },
     "execution_count": 18,
     "metadata": {},
     "output_type": "execute_result"
    }
   ],
   "source": [
    "z_score, p_value = sm.stats.proportions_ztest([convert_new, convert_old], [n_new, n_old], alternative='larger')\n",
    "z_score, p_value"
   ]
  },
  {
   "cell_type": "code",
   "execution_count": 19,
   "metadata": {},
   "outputs": [
    {
     "name": "stdout",
     "output_type": "stream",
     "text": [
      "0.09471087308624082\n",
      "1.6448536269514722\n"
     ]
    }
   ],
   "source": [
    "from scipy.stats import norm\n",
    "# Tells us how significant our z-score is\n",
    "print(norm.cdf(z_score))\n",
    "\n",
    "# for our single-sides test, assumed at 95% confidence level, we calculate: \n",
    "print(norm.ppf(1-(0.05)))"
   ]
  },
  {
   "cell_type": "code",
   "execution_count": 20,
   "metadata": {},
   "outputs": [
    {
     "data": {
      "text/html": [
       "<div>\n",
       "<style scoped>\n",
       "    .dataframe tbody tr th:only-of-type {\n",
       "        vertical-align: middle;\n",
       "    }\n",
       "\n",
       "    .dataframe tbody tr th {\n",
       "        vertical-align: top;\n",
       "    }\n",
       "\n",
       "    .dataframe thead th {\n",
       "        text-align: right;\n",
       "    }\n",
       "</style>\n",
       "<table border=\"1\" class=\"dataframe\">\n",
       "  <thead>\n",
       "    <tr style=\"text-align: right;\">\n",
       "      <th></th>\n",
       "      <th>user_id</th>\n",
       "      <th>timestamp</th>\n",
       "      <th>group</th>\n",
       "      <th>landing_page</th>\n",
       "      <th>converted</th>\n",
       "      <th>misaligned</th>\n",
       "      <th>intercept</th>\n",
       "      <th>ab_page</th>\n",
       "    </tr>\n",
       "  </thead>\n",
       "  <tbody>\n",
       "    <tr>\n",
       "      <th>0</th>\n",
       "      <td>851104</td>\n",
       "      <td>2017-01-21 22:11:48.556739</td>\n",
       "      <td>control</td>\n",
       "      <td>old_page</td>\n",
       "      <td>0</td>\n",
       "      <td>False</td>\n",
       "      <td>1</td>\n",
       "      <td>0</td>\n",
       "    </tr>\n",
       "    <tr>\n",
       "      <th>1</th>\n",
       "      <td>804228</td>\n",
       "      <td>2017-01-12 08:01:45.159739</td>\n",
       "      <td>control</td>\n",
       "      <td>old_page</td>\n",
       "      <td>0</td>\n",
       "      <td>False</td>\n",
       "      <td>1</td>\n",
       "      <td>0</td>\n",
       "    </tr>\n",
       "    <tr>\n",
       "      <th>2</th>\n",
       "      <td>661590</td>\n",
       "      <td>2017-01-11 16:55:06.154213</td>\n",
       "      <td>treatment</td>\n",
       "      <td>new_page</td>\n",
       "      <td>0</td>\n",
       "      <td>False</td>\n",
       "      <td>1</td>\n",
       "      <td>1</td>\n",
       "    </tr>\n",
       "    <tr>\n",
       "      <th>3</th>\n",
       "      <td>853541</td>\n",
       "      <td>2017-01-08 18:28:03.143765</td>\n",
       "      <td>treatment</td>\n",
       "      <td>new_page</td>\n",
       "      <td>0</td>\n",
       "      <td>False</td>\n",
       "      <td>1</td>\n",
       "      <td>1</td>\n",
       "    </tr>\n",
       "    <tr>\n",
       "      <th>4</th>\n",
       "      <td>864975</td>\n",
       "      <td>2017-01-21 01:52:26.210827</td>\n",
       "      <td>control</td>\n",
       "      <td>old_page</td>\n",
       "      <td>1</td>\n",
       "      <td>False</td>\n",
       "      <td>1</td>\n",
       "      <td>0</td>\n",
       "    </tr>\n",
       "  </tbody>\n",
       "</table>\n",
       "</div>"
      ],
      "text/plain": [
       "   user_id                   timestamp      group landing_page  converted  \\\n",
       "0   851104  2017-01-21 22:11:48.556739    control     old_page          0   \n",
       "1   804228  2017-01-12 08:01:45.159739    control     old_page          0   \n",
       "2   661590  2017-01-11 16:55:06.154213  treatment     new_page          0   \n",
       "3   853541  2017-01-08 18:28:03.143765  treatment     new_page          0   \n",
       "4   864975  2017-01-21 01:52:26.210827    control     old_page          1   \n",
       "\n",
       "   misaligned  intercept  ab_page  \n",
       "0       False          1        0  \n",
       "1       False          1        0  \n",
       "2       False          1        1  \n",
       "3       False          1        1  \n",
       "4       False          1        0  "
      ]
     },
     "execution_count": 20,
     "metadata": {},
     "output_type": "execute_result"
    }
   ],
   "source": [
    "ab_df['intercept']=1\n",
    "ab_df['ab_page']=pd.get_dummies(ab_df['group'])['treatment']\n",
    "ab_df.head()"
   ]
  },
  {
   "cell_type": "code",
   "execution_count": 21,
   "metadata": {},
   "outputs": [
    {
     "name": "stdout",
     "output_type": "stream",
     "text": [
      "Optimization terminated successfully.\n",
      "         Current function value: 0.366118\n",
      "         Iterations 6\n"
     ]
    },
    {
     "data": {
      "text/html": [
       "<table class=\"simpletable\">\n",
       "<caption>Logit Regression Results</caption>\n",
       "<tr>\n",
       "  <th>Dep. Variable:</th>     <td>converted</td>    <th>  No. Observations:  </th>   <td>290584</td>   \n",
       "</tr>\n",
       "<tr>\n",
       "  <th>Model:</th>               <td>Logit</td>      <th>  Df Residuals:      </th>   <td>290582</td>   \n",
       "</tr>\n",
       "<tr>\n",
       "  <th>Method:</th>               <td>MLE</td>       <th>  Df Model:          </th>   <td>     1</td>   \n",
       "</tr>\n",
       "<tr>\n",
       "  <th>Date:</th>          <td>Sat, 01 Jun 2019</td> <th>  Pseudo R-squ.:     </th>  <td>8.094e-06</td> \n",
       "</tr>\n",
       "<tr>\n",
       "  <th>Time:</th>              <td>20:35:44</td>     <th>  Log-Likelihood:    </th> <td>-1.0639e+05</td>\n",
       "</tr>\n",
       "<tr>\n",
       "  <th>converged:</th>           <td>True</td>       <th>  LL-Null:           </th> <td>-1.0639e+05</td>\n",
       "</tr>\n",
       "<tr>\n",
       "  <th> </th>                      <td> </td>        <th>  LLR p-value:       </th>   <td>0.1894</td>   \n",
       "</tr>\n",
       "</table>\n",
       "<table class=\"simpletable\">\n",
       "<tr>\n",
       "      <td></td>         <th>coef</th>     <th>std err</th>      <th>z</th>      <th>P>|z|</th>  <th>[0.025</th>    <th>0.975]</th>  \n",
       "</tr>\n",
       "<tr>\n",
       "  <th>intercept</th> <td>   -1.9888</td> <td>    0.008</td> <td> -246.668</td> <td> 0.000</td> <td>   -2.005</td> <td>   -1.973</td>\n",
       "</tr>\n",
       "<tr>\n",
       "  <th>ab_page</th>   <td>   -0.0150</td> <td>    0.011</td> <td>   -1.312</td> <td> 0.189</td> <td>   -0.037</td> <td>    0.007</td>\n",
       "</tr>\n",
       "</table>"
      ],
      "text/plain": [
       "<class 'statsmodels.iolib.summary.Summary'>\n",
       "\"\"\"\n",
       "                           Logit Regression Results                           \n",
       "==============================================================================\n",
       "Dep. Variable:              converted   No. Observations:               290584\n",
       "Model:                          Logit   Df Residuals:                   290582\n",
       "Method:                           MLE   Df Model:                            1\n",
       "Date:                Sat, 01 Jun 2019   Pseudo R-squ.:               8.094e-06\n",
       "Time:                        20:35:44   Log-Likelihood:            -1.0639e+05\n",
       "converged:                       True   LL-Null:                   -1.0639e+05\n",
       "                                        LLR p-value:                    0.1894\n",
       "==============================================================================\n",
       "                 coef    std err          z      P>|z|      [0.025      0.975]\n",
       "------------------------------------------------------------------------------\n",
       "intercept     -1.9888      0.008   -246.668      0.000      -2.005      -1.973\n",
       "ab_page       -0.0150      0.011     -1.312      0.189      -0.037       0.007\n",
       "==============================================================================\n",
       "\"\"\""
      ]
     },
     "execution_count": 21,
     "metadata": {},
     "output_type": "execute_result"
    }
   ],
   "source": [
    "from scipy import stats\n",
    "stats.chisqprob = lambda chisq, df: stats.chi2.sf(chisq, df)\n",
    "\n",
    "lm=sm.Logit(ab_df['converted'], ab_df[['intercept', 'ab_page']])\n",
    "results=lm.fit()\n",
    "results.summary()"
   ]
  },
  {
   "cell_type": "code",
   "execution_count": 22,
   "metadata": {},
   "outputs": [],
   "source": [
    "## The intercept = -1.9888. exp(-1.9888)=0.13686. This means the conversion rate of baseline case is 0.13686.\n",
    "## The coefficient for ab_page (treatment) is -0.015. exp(-0.015)=0.985. 1/0.985=1.015. This means that baseline (control that uses old_page) is 1.015 times likely to result in conversion relative to treatment.\n",
    "## p value if 0.19. This is a large number compared to 0.05. Therefore I would not consider the results are statistically significant, and I fail to reject the null, which is that conversion rate does not depend on landing_page."
   ]
  },
  {
   "cell_type": "code",
   "execution_count": 34,
   "metadata": {},
   "outputs": [],
   "source": [
    "from sklearn import linear_model\n",
    "from sklearn.cross_validation import train_test_split\n",
    "from sklearn.metrics import roc_auc_score\n",
    "import scikitplot as skplt"
   ]
  },
  {
   "cell_type": "code",
   "execution_count": 26,
   "metadata": {},
   "outputs": [],
   "source": [
    "ab_testing_control = ab_testing[ab_testing[\"group\"] == \"control\"].copy()\n",
    "ab_testing_treatment = ab_testing[ab_testing[\"group\"] == \"treatment\"].copy()"
   ]
  },
  {
   "cell_type": "code",
   "execution_count": 32,
   "metadata": {},
   "outputs": [],
   "source": [
    "ab_testing_control.head(10)\n",
    "ab_testing_control[\"ab_page\"] = pd.get_dummies(ab_testing_control[\"landing_page\"])['new_page']\n",
    "ab_testing_treatment[\"ab_page\"] = pd.get_dummies(ab_testing_treatment[\"landing_page\"])['new_page']\n",
    "\n",
    "features = [\"ab_page\"]"
   ]
  },
  {
   "cell_type": "code",
   "execution_count": 33,
   "metadata": {},
   "outputs": [
    {
     "name": "stdout",
     "output_type": "stream",
     "text": [
      "147202\n",
      "147276\n",
      "0    129479\n",
      "1     17723\n",
      "Name: converted, dtype: int64\n",
      "0    129762\n",
      "1     17514\n",
      "Name: converted, dtype: int64\n",
      "88365\n",
      "58911\n",
      "88365\n",
      "58911\n",
      "0    77857\n",
      "1    10508\n",
      "Name: converted, dtype: int64\n",
      "0    51905\n",
      "1     7006\n",
      "Name: converted, dtype: int64\n",
      "88321\n",
      "58881\n",
      "88321\n",
      "58881\n",
      "0    77687\n",
      "1    10634\n",
      "Name: converted, dtype: int64\n",
      "0    51792\n",
      "1     7089\n",
      "Name: converted, dtype: int64\n"
     ]
    }
   ],
   "source": [
    "Y_train_control = ab_testing_control['converted']\n",
    "X_train_control = ab_testing_control[features]\n",
    "\n",
    "Y_train_exper = ab_testing_treatment['converted']\n",
    "X_train_exper = ab_testing_treatment[features]\n",
    "\n",
    "print(len(ab_testing_control))\n",
    "print(len(ab_testing_treatment))\n",
    "\n",
    "print(ab_testing_control['converted'].value_counts())\n",
    "print(ab_testing_treatment['converted'].value_counts())\n",
    "\n",
    "\n",
    "## print(train_control[\"treatment\"].value_counts())\n",
    "## print(train_exper[\"treatment\"].value_counts())\n",
    "\n",
    "from sklearn.cross_validation import train_test_split\n",
    "X_treat_train, X_treat_test, y_treat_train, y_treat_test = train_test_split(X_train_exper, Y_train_exper, test_size = 0.4, stratify = Y_train_exper)\n",
    "print(len(X_treat_train))\n",
    "print(len(X_treat_test))\n",
    "print(len(y_treat_train))\n",
    "print(len(y_treat_test))\n",
    "print((y_treat_train.value_counts()))\n",
    "print((y_treat_test.value_counts()))\n",
    "\n",
    "\n",
    "X_cont_train, X_cont_test, y_cont_train, y_cont_test = train_test_split(X_train_control, Y_train_control, test_size = 0.4, stratify = Y_train_control)\n",
    "print(len(X_cont_train))\n",
    "print(len(X_cont_test))\n",
    "print(len(y_cont_train))\n",
    "print(len(y_cont_test))\n",
    "print((y_cont_train.value_counts()))\n",
    "print((y_cont_test.value_counts()))"
   ]
  },
  {
   "cell_type": "code",
   "execution_count": 35,
   "metadata": {},
   "outputs": [
    {
     "data": {
      "text/plain": [
       "LogisticRegression(C=1.0, class_weight=None, dual=False, fit_intercept=True,\n",
       "          intercept_scaling=1, max_iter=100, multi_class='ovr', n_jobs=1,\n",
       "          penalty='l2', random_state=None, solver='liblinear', tol=0.0001,\n",
       "          verbose=0, warm_start=False)"
      ]
     },
     "execution_count": 35,
     "metadata": {},
     "output_type": "execute_result"
    }
   ],
   "source": [
    "## Training the treatment model without upsample\n",
    "model_control = linear_model.LogisticRegression()\n",
    "model_control.fit(X_cont_train, y_cont_train)\n",
    "\n",
    "## Training the treatment model without upsample\n",
    "model_treatment = linear_model.LogisticRegression()\n",
    "model_treatment.fit(X_treat_train, y_treat_train)"
   ]
  },
  {
   "cell_type": "code",
   "execution_count": 36,
   "metadata": {},
   "outputs": [],
   "source": [
    "## Making predictions on the test datasets for treatment and control without upsampling\n",
    "control_test_pred = model_control.predict_proba(X_cont_test)\n",
    "treatment_test_pred = model_control.predict_proba(X_treat_test)"
   ]
  },
  {
   "cell_type": "code",
   "execution_count": 37,
   "metadata": {},
   "outputs": [
    {
     "name": "stdout",
     "output_type": "stream",
     "text": [
      "Treatment AUC score: 0.49991686567636584\n",
      "Control AUC score: 0.4991328721899545\n"
     ]
    }
   ],
   "source": [
    "## AUC calculations\n",
    "from sklearn.metrics import roc_auc_score\n",
    "auc_treatment = roc_auc_score(y_treat_test, treatment_test_pred[:,1])\n",
    "print(\"Treatment AUC score:\", auc_treatment)\n",
    "\n",
    "auc_control = roc_auc_score(y_cont_test, control_test_pred[:,1])\n",
    "print(\"Control AUC score:\", auc_control)"
   ]
  },
  {
   "cell_type": "code",
   "execution_count": 38,
   "metadata": {},
   "outputs": [
    {
     "name": "stderr",
     "output_type": "stream",
     "text": [
      "C:\\Users\\kalya\\AppData\\Local\\Continuum\\anaconda3\\lib\\site-packages\\matplotlib\\cbook\\deprecation.py:107: MatplotlibDeprecationWarning: Passing one of 'on', 'true', 'off', 'false' as a boolean is deprecated; use an actual boolean (True/False) instead.\n",
      "  warnings.warn(message, mplDeprecation, stacklevel=1)\n",
      "C:\\Users\\kalya\\AppData\\Local\\Continuum\\anaconda3\\lib\\site-packages\\matplotlib\\cbook\\deprecation.py:107: MatplotlibDeprecationWarning: Passing one of 'on', 'true', 'off', 'false' as a boolean is deprecated; use an actual boolean (True/False) instead.\n",
      "  warnings.warn(message, mplDeprecation, stacklevel=1)\n"
     ]
    },
    {
     "data": {
      "image/png": "[encoded data removed]",
      "text/plain": [
       "<Figure size 432x288 with 1 Axes>"
      ]
     },
     "metadata": {},
     "output_type": "display_data"
    },
    {
     "data": {
      "image/png": "[encoded data removed]",
      "text/plain": [
       "<Figure size 432x288 with 1 Axes>"
      ]
     },
     "metadata": {},
     "output_type": "display_data"
    }
   ],
   "source": [
    "import matplotlib.pyplot as plt\n",
    "import scikitplot as skplt\n",
    "\n",
    "skplt.metrics.plot_cumulative_gain(y_treat_test, treatment_test_pred)\n",
    "skplt.metrics.plot_cumulative_gain(y_cont_test, control_test_pred)\n",
    "plt.show()"
   ]
  },
  {
   "cell_type": "code",
   "execution_count": null,
   "metadata": {},
   "outputs": [],
   "source": []
  }
 ],
 "metadata": {
  "kernelspec": {
   "display_name": "Python 3",
   "language": "python",
   "name": "python3"
  },
  "language_info": {
   "codemirror_mode": {
    "name": "ipython",
    "version": 3
   },
   "file_extension": ".py",
   "mimetype": "text/x-python",
   "name": "python",
   "nbconvert_exporter": "python",
   "pygments_lexer": "ipython3",
   "version": "3.6.5"
  }
 },
 "nbformat": 4,
 "nbformat_minor": 2
}
